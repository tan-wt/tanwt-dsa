{
 "cells": [
  {
   "cell_type": "markdown",
   "metadata": {},
   "source": [
    "## Notes - 1.10. Control Structures  "
   ]
  },
  {
   "cell_type": "markdown",
   "metadata": {},
   "source": [
    "Python requires 2 important control structures:\n",
    "\n",
    "1. Iteration\n",
    "2. Selection\n",
    "\n",
    "## Iteration \n",
    "\n",
    "- WHILE Statement (repeats a body of code as long as condition is true)"
   ]
  },
  {
   "cell_type": "code",
   "execution_count": 2,
   "metadata": {},
   "outputs": [
    {
     "name": "stdout",
     "output_type": "stream",
     "text": [
      "Hello, world\n",
      "Hello, world\n",
      "Hello, world\n",
      "Hello, world\n",
      "Hello, world\n"
     ]
    }
   ],
   "source": [
    "counter = 1\n",
    "while counter <= 5:\n",
    "    print(\"Hello, world\")\n",
    "    counter = counter + 1"
   ]
  },
  {
   "cell_type": "code",
   "execution_count": 59,
   "metadata": {},
   "outputs": [
    {
     "name": "stdout",
     "output_type": "stream",
     "text": [
      "2\n",
      "4\n",
      "6\n",
      "8\n",
      "10\n"
     ]
    }
   ],
   "source": [
    "counter = 2\n",
    "while counter <= 10:\n",
    "    print (counter)\n",
    "    counter = counter + 2"
   ]
  },
  {
   "cell_type": "markdown",
   "metadata": {},
   "source": [
    "- FOR Statement (repeats a body of code for each element in a sequence), can be used to iterate over the members of collection, so long as the collection is a sequence (Sequence Types - List, Tuple, String)\n",
    "  - can be used to process each character of a string\n"
   ]
  },
  {
   "cell_type": "code",
   "execution_count": 71,
   "metadata": {},
   "outputs": [
    {
     "name": "stdout",
     "output_type": "stream",
     "text": [
      "['a', 'e', 'a', 'a', 'e', 'e']\n"
     ]
    }
   ],
   "source": [
    "wordlist = ['haechan', 'mark', 'chenle']\n",
    "letterlist = []\n",
    "for word in wordlist:\n",
    "    #print(word)\n",
    "    for letter in word:\n",
    "        #print(letter)\n",
    "        if letter == 'a':\n",
    "            letterlist.append(letter)\n",
    "        elif letter == 'e':\n",
    "            letterlist.append(letter)\n",
    "        elif letter == 'i':\n",
    "            letterlist.append(letter)\n",
    "        elif letter == 'o':\n",
    "            letterlist.append(letter)\n",
    "        elif letter == 'u':\n",
    "            letterlist.append(letter)\n",
    "        else:\n",
    "            pass # do nothing\n",
    "\n",
    "print(letterlist)"
   ]
  },
  {
   "cell_type": "code",
   "execution_count": 74,
   "metadata": {},
   "outputs": [
    {
     "name": "stdout",
     "output_type": "stream",
     "text": [
      "['h', 'c', 'h', 'n', 'm', 'r', 'k', 'c', 'h', 'n', 'l']\n"
     ]
    }
   ],
   "source": [
    "wordlist = ['haechan', 'mark', 'chenle']\n",
    "letterlist = []\n",
    "for word in wordlist:\n",
    "    #print(word)\n",
    "    for letter in word:\n",
    "        #print(letter)\n",
    "        if letter not in 'aeiou':\n",
    "            letterlist.append(letter)\n",
    "print(letterlist)"
   ]
  },
  {
   "cell_type": "code",
   "execution_count": 3,
   "metadata": {},
   "outputs": [
    {
     "name": "stdout",
     "output_type": "stream",
     "text": [
      "['c', 'a', 't', 'd', 'o', 'g', 'r', 'a', 'b', 'b', 'i', 't']\n"
     ]
    }
   ],
   "source": [
    "wordlist = ['cat','dog','rabbit']\n",
    "letterlist = [ ]\n",
    "for aword in wordlist:\n",
    "    for aletter in aword:\n",
    "        letterlist.append(aletter)\n",
    "print(letterlist)"
   ]
  },
  {
   "cell_type": "markdown",
   "metadata": {},
   "source": [
    "## Selection\n",
    "\n",
    "Allow programmers to ask questions then based on the result perform different actions\n",
    "\n",
    "1. ifelse\n",
    "2. if \n",
    "\n",
    "- ifelse (Allows you to test a condition and then perform different actions depending on the result of the test)\n",
    "  - ifelse function\n",
    "  - alternative syntax elif keyword \n",
    "    - else and next if are combined as as to eliminate the need for additional nesting levels. (shorter codes and lines)\n",
    "\n",
    "\n",
    "- if (if condition is true, an action is performed, if condition is false, processing simply continues on to the next statement after the if.)\n",
    "  "
   ]
  },
  {
   "cell_type": "code",
   "execution_count": 6,
   "metadata": {},
   "outputs": [
    {
     "name": "stdout",
     "output_type": "stream",
     "text": [
      "aword cat\n",
      "aletter c\n",
      "aletter a\n",
      "aletter t\n",
      "['c', 'a', 't']\n",
      "aword dog\n",
      "aletter d\n",
      "aletter o\n",
      "aletter g\n",
      "['c', 'a', 't', 'd', 'o', 'g']\n",
      "aword rabbit\n",
      "aletter r\n",
      "aletter a\n",
      "aletter b\n",
      "aletter b\n",
      "aletter i\n",
      "aletter t\n",
      "['c', 'a', 't', 'd', 'o', 'g', 'r', 'a', 'b', 'b', 'i', 't']\n"
     ]
    }
   ],
   "source": [
    "wordlist = ['cat','dog','rabbit']\n",
    "letterlist = [ ]\n",
    "for aword in wordlist:\n",
    "    print(\"aword\", aword)\n",
    "    for aletter in aword:\n",
    "        print(\"aletter\", aletter)\n",
    "        letterlist.append(aletter)\n",
    "    print(letterlist)\n",
    "# print(letterlist)\n"
   ]
  },
  {
   "cell_type": "code",
   "execution_count": 12,
   "metadata": {},
   "outputs": [
    {
     "name": "stdout",
     "output_type": "stream",
     "text": [
      "seen ['c']\n",
      "letterlist ['c']\n",
      "seen ['c', 'a']\n",
      "letterlist ['c', 'a']\n",
      "seen ['c', 'a', 't']\n",
      "letterlist ['c', 'a', 't']\n",
      "seen ['c', 'a', 't', 'd']\n",
      "letterlist ['c', 'a', 't', 'd']\n",
      "seen ['c', 'a', 't', 'd', 'o']\n",
      "letterlist ['c', 'a', 't', 'd', 'o']\n",
      "seen ['c', 'a', 't', 'd', 'o', 'g']\n",
      "letterlist ['c', 'a', 't', 'd', 'o', 'g']\n",
      "seen ['c', 'a', 't', 'd', 'o', 'g', 'r']\n",
      "letterlist ['c', 'a', 't', 'd', 'o', 'g', 'r']\n",
      "seen ['c', 'a', 't', 'd', 'o', 'g', 'r']\n",
      "letterlist ['c', 'a', 't', 'd', 'o', 'g', 'r']\n",
      "seen ['c', 'a', 't', 'd', 'o', 'g', 'r', 'b']\n",
      "letterlist ['c', 'a', 't', 'd', 'o', 'g', 'r', 'b']\n",
      "seen ['c', 'a', 't', 'd', 'o', 'g', 'r', 'b']\n",
      "letterlist ['c', 'a', 't', 'd', 'o', 'g', 'r', 'b']\n",
      "seen ['c', 'a', 't', 'd', 'o', 'g', 'r', 'b', 'i']\n",
      "letterlist ['c', 'a', 't', 'd', 'o', 'g', 'r', 'b', 'i']\n",
      "seen ['c', 'a', 't', 'd', 'o', 'g', 'r', 'b', 'i']\n",
      "letterlist ['c', 'a', 't', 'd', 'o', 'g', 'r', 'b', 'i']\n"
     ]
    }
   ],
   "source": [
    "seen = []\n",
    "wordlist = ['cat','dog','rabbit']\n",
    "letterlist = [ ]\n",
    "for aword in wordlist:\n",
    "    #print(\"aword\", aword)\n",
    "    for aletter in aword:\n",
    "        if aletter not in seen:\n",
    "            seen.append(aletter)\n",
    "            letterlist.append(aletter)\n",
    "        else:\n",
    "            pass\n",
    "        print(\"seen\", seen)\n",
    "        print(\"letterlist\", letterlist)\n",
    "\n",
    "        \n",
    "        #print(\"aletter\", aletter)\n",
    "      \n",
    "    #print(letterlist)"
   ]
  },
  {
   "cell_type": "code",
   "execution_count": 10,
   "metadata": {},
   "outputs": [
    {
     "data": {
      "text/plain": [
       "['c', 'a', 't', 'd', 'o', 'g', 'r', 'b', 'i']"
      ]
     },
     "execution_count": 10,
     "metadata": {},
     "output_type": "execute_result"
    }
   ],
   "source": [
    "letterlist"
   ]
  },
  {
   "cell_type": "code",
   "execution_count": 14,
   "metadata": {},
   "outputs": [
    {
     "name": "stdout",
     "output_type": "stream",
     "text": [
      "['c', 'a', 't', 'd', 'o', 'g', 'r', 'b', 'i']\n"
     ]
    }
   ],
   "source": [
    "# the answer is: ['c', 'a', 't', 'd', 'o', 'g', 'r', 'b', 'i']\n",
    "wordlist = ['cat','dog','rabbit']\n",
    "letterlist = [ ]\n",
    "for aword in wordlist:\n",
    "    for aletter in aword:\n",
    "        if aletter not in letterlist:\n",
    "            letterlist.append(aletter)\n",
    "print(letterlist)\n",
    "\n"
   ]
  },
  {
   "cell_type": "code",
   "execution_count": null,
   "metadata": {},
   "outputs": [],
   "source": []
  },
  {
   "cell_type": "markdown",
   "metadata": {},
   "source": [
    "## List Comprehensions \n",
    "\n",
    "- create a list that uses iteration and selection constructions\n",
    "- create list based on some processing or selection criteria "
   ]
  },
  {
   "cell_type": "code",
   "execution_count": 28,
   "metadata": {},
   "outputs": [
    {
     "name": "stdout",
     "output_type": "stream",
     "text": [
      "['c', 'a', 't', 'd', 'o', 'g', 'r', 'b', 'i']\n"
     ]
    }
   ],
   "source": [
    "wordlist = ['cat','dog','rabbit']\n",
    "letterlist = [ ]\n",
    "for aword in wordlist:\n",
    "    for aletter in aword:\n",
    "        if aletter not in letterlist:\n",
    "            letterlist.append(aletter)\n",
    "print(letterlist)\n"
   ]
  },
  {
   "cell_type": "code",
   "execution_count": 36,
   "metadata": {},
   "outputs": [
    {
     "name": "stdout",
     "output_type": "stream",
     "text": [
      "[4, 16]\n"
     ]
    }
   ],
   "source": [
    "a = [1,2,3,4,5]\n",
    "b = []\n",
    "\n",
    "for num in a:\n",
    "    if num % 2 == 0:\n",
    "        b.append(num**2)\n",
    "\n",
    "print(b)"
   ]
  },
  {
   "cell_type": "code",
   "execution_count": 37,
   "metadata": {},
   "outputs": [
    {
     "data": {
      "text/plain": [
       "[4, 16]"
      ]
     },
     "execution_count": 37,
     "metadata": {},
     "output_type": "execute_result"
    }
   ],
   "source": [
    "c = [num**2 for num in a if num % 2 == 0]\n",
    "c"
   ]
  },
  {
   "cell_type": "code",
   "execution_count": 56,
   "metadata": {},
   "outputs": [
    {
     "data": {
      "text/plain": [
       "['C', 'M', 'P', 'R', 'H', 'N', 'S', 'N']"
      ]
     },
     "execution_count": 56,
     "metadata": {},
     "output_type": "execute_result"
    }
   ],
   "source": [
    "[d.upper() for d in 'comprehension' if d not in 'aieou']"
   ]
  },
  {
   "cell_type": "code",
   "execution_count": 76,
   "metadata": {},
   "outputs": [
    {
     "data": {
      "text/plain": [
       "['A', 'E', 'A']"
      ]
     },
     "execution_count": 76,
     "metadata": {},
     "output_type": "execute_result"
    }
   ],
   "source": [
    "[vowel.upper() for vowel in 'haechan' if vowel in 'aeiou']"
   ]
  },
  {
   "cell_type": "code",
   "execution_count": 80,
   "metadata": {},
   "outputs": [
    {
     "data": {
      "text/plain": [
       "['a', 'e', 'a']"
      ]
     },
     "execution_count": 80,
     "metadata": {},
     "output_type": "execute_result"
    }
   ],
   "source": [
    "[vowel.lower() for vowel in 'HAECHAN' if vowel in 'aeiou'.upper()] "
   ]
  },
  {
   "cell_type": "markdown",
   "metadata": {},
   "source": [
    "## Defining Functions\n",
    "\n",
    "def function_name(parameters):\n",
    "    body of function\n",
    "    return value"
   ]
  },
  {
   "cell_type": "code",
   "execution_count": 82,
   "metadata": {},
   "outputs": [
    {
     "data": {
      "text/plain": [
       "132"
      ]
     },
     "execution_count": 82,
     "metadata": {},
     "output_type": "execute_result"
    }
   ],
   "source": [
    "def double (x):\n",
    "    return x*2\n",
    "\n",
    "double (66)"
   ]
  },
  {
   "cell_type": "code",
   "execution_count": 83,
   "metadata": {},
   "outputs": [
    {
     "data": {
      "text/plain": [
       "3.0"
      ]
     },
     "execution_count": 83,
     "metadata": {},
     "output_type": "execute_result"
    }
   ],
   "source": [
    "def squareroot (y):\n",
    "    return y**0.5\n",
    "\n",
    "squareroot (9)"
   ]
  },
  {
   "cell_type": "code",
   "execution_count": 86,
   "metadata": {},
   "outputs": [
    {
     "data": {
      "text/plain": [
       "193"
      ]
     },
     "execution_count": 86,
     "metadata": {},
     "output_type": "execute_result"
    }
   ],
   "source": [
    "def add (x,y):\n",
    "    return x+y\n",
    "\n",
    "add (127, 66)"
   ]
  },
  {
   "cell_type": "code",
   "execution_count": 97,
   "metadata": {},
   "outputs": [
    {
     "name": "stdout",
     "output_type": "stream",
     "text": [
      "14\n",
      "-14\n"
     ]
    }
   ],
   "source": [
    "def minus(x,y):\n",
    "    return x-y\n",
    "\n",
    "print(minus(22, 8))\n",
    "print(minus(8, 22))"
   ]
  },
  {
   "cell_type": "markdown",
   "metadata": {},
   "source": [
    "Write a function\n",
    "\n",
    "user keys in a name from nct_members, and return as a pair\n",
    "check if user keys in wrong name, please try again\n"
   ]
  },
  {
   "cell_type": "code",
   "execution_count": 148,
   "metadata": {},
   "outputs": [],
   "source": [
    "from typing import List"
   ]
  },
  {
   "cell_type": "code",
   "execution_count": 274,
   "metadata": {},
   "outputs": [],
   "source": [
    "nctdream_members = [\"mark\", \"renjun\", \"jeno\", \"haechan\", \"jaemin\", \"chenle\", \"jisung\"]"
   ]
  },
  {
   "cell_type": "code",
   "execution_count": 314,
   "metadata": {},
   "outputs": [],
   "source": [
    "import random\n",
    "\n",
    "def get_otp(members):\n",
    "    \"\"\"\n",
    "    members: input must be a list of str\n",
    "    output: name 1 + name 2\n",
    "    \"\"\" \n",
    "    random_member = random.sample(nctdream_members, 1)[0]\n",
    "    print(random_member)\n",
    "    #memberkeyedin = members[0]\n",
    "    #members = nctdream_members\n",
    "    print(members)  #list of string; list is not string, members is list of string at this point, \"mark\" is string\n",
    "    if members == \"mark\":\n",
    "        return members[0] + \" ❤️ \" + random_member\n",
    "    elif members == \"renjun\":\n",
    "        return members[1] + \" ❤️ \" + random_member\n",
    "    elif members == \"jeno\":\n",
    "        return members[2] + \" ❤️ \" + random_member\n",
    "    elif members == \"haechan\":\n",
    "        return members[3] + \" ❤️ \" + random_member\n",
    "    elif members == \"jaemin\":\n",
    "        return members[4] + \" ❤️ \" + random_member\n",
    "    elif members == \"chenle\":\n",
    "        return members[5] + \" ❤️ \" + random_member\n",
    "    elif members == \"jisung\":\n",
    "        return members[6] + \" ❤️ \" + random_member"
   ]
  },
  {
   "cell_type": "code",
   "execution_count": 11,
   "metadata": {},
   "outputs": [],
   "source": [
    "import random\n",
    "\n",
    "def get_otp(members):\n",
    "    \"\"\"\n",
    "    members: input must be a list of str\n",
    "    output: name 1 + name 2\n",
    "    \"\"\" \n",
    "    random_member = random.sample(members, 1)[0]\n",
    "    print(random_member)\n",
    "    member = members[0]\n",
    "    if member == \"mark\":\n",
    "        return members[0] + \" ❤️ \" + random_member\n",
    "\n",
    "# recall function, put in x variable through the f to get y \n",
    "# so in this case members if x, get_otp as f, y is your output\n",
    "# similar to y = 2x -3 f(x) = 2x -3 \n",
    "# you input the x, then the steps in between are the \"2\" and \"3\", then you get y which is your output. "
   ]
  },
  {
   "cell_type": "code",
   "execution_count": 316,
   "metadata": {},
   "outputs": [
    {
     "name": "stdout",
     "output_type": "stream",
     "text": [
      "jaemin\n",
      "mark ❤️ jaemin\n"
     ]
    }
   ],
   "source": [
    "otp = get_otp(members=nctdream_members)\n",
    "print(otp)"
   ]
  },
  {
   "cell_type": "code",
   "execution_count": 310,
   "metadata": {},
   "outputs": [
    {
     "name": "stdout",
     "output_type": "stream",
     "text": [
      "jisung\n",
      "['mark', 'renjun', 'jeno', 'haechan', 'jaemin', 'chenle', 'jisung']\n",
      "None\n"
     ]
    }
   ],
   "source": [
    "#otp = get_otp(members = \"mark\")\n",
    "#print(otp)\n",
    "otp = get_otp(members = nctdream_members)\n",
    "print(otp)"
   ]
  },
  {
   "cell_type": "code",
   "execution_count": 345,
   "metadata": {},
   "outputs": [],
   "source": [
    "import random\n",
    "\n",
    "def get_otp(members):\n",
    "    \"\"\"\n",
    "    members: input must be a list of str\n",
    "    output: name 1 + name 2\n",
    "    \"\"\" \n",
    "    random_member = random.sample(members, 1)[0]\n",
    "    print(random_member)\n",
    "    member = members[0]\n",
    "    if member == \"mark\":\n",
    "        return members[0] + \" ❤️ \" + random_member\n",
    " \n",
    "   "
   ]
  },
  {
   "cell_type": "code",
   "execution_count": 348,
   "metadata": {},
   "outputs": [
    {
     "name": "stdout",
     "output_type": "stream",
     "text": [
      "jisung\n",
      "mark ❤️ jisung\n"
     ]
    }
   ],
   "source": [
    "otp = get_otp(members=nctdream_members)\n",
    "print(otp)"
   ]
  },
  {
   "cell_type": "code",
   "execution_count": 367,
   "metadata": {},
   "outputs": [],
   "source": []
  },
  {
   "cell_type": "code",
   "execution_count": 379,
   "metadata": {},
   "outputs": [
    {
     "name": "stdout",
     "output_type": "stream",
     "text": [
      "jeno\n",
      "Mark ❤️ jeno\n",
      "jaemin\n",
      "Haechan ❤️ jaemin\n",
      "jaemin\n",
      "Jaemin ❤️ jaemin\n"
     ]
    }
   ],
   "source": [
    "import random\n",
    "random.seed(42)\n",
    "\n",
    "nctdream_members = [\"mark\", \"renjun\", \"jeno\", \"haechan\", \"jaemin\", \"chenle\", \"jisung\"]\n",
    "\n",
    "def my_otp(dname):\n",
    "    random_member = random.sample(nctdream_members, 1)[0]\n",
    "    print(random_member)\n",
    "    print(dname + \" ❤️ \" + random_member)\n",
    "\n",
    "my_otp(\"Mark\")\n",
    "my_otp(\"Haechan\")\n",
    "my_otp(\"Jaemin\")\n",
    "   "
   ]
  },
  {
   "cell_type": "code",
   "execution_count": 381,
   "metadata": {},
   "outputs": [
    {
     "name": "stdout",
     "output_type": "stream",
     "text": [
      "chenle\n",
      "Mark ❤️ chenle\n",
      "mark\n",
      "Haechan ❤️ mark\n",
      "mark\n",
      "Jaemin ❤️ mark\n"
     ]
    }
   ],
   "source": [
    "import random\n",
    "random.seed(42)\n",
    "\n",
    "def my_otp(dname, member_list):\n",
    "    random_member = random.sample(member_list, 1)[0]\n",
    "    print(random_member)\n",
    "    print(dname + \" ❤️ \" + random_member)\n",
    "\n",
    "nctdream_members = [\"mark\", \"renjun\", \"jeno\", \"haechan\", \"jaemin\", \"chenle\", \"jisung\"]\n",
    "# bts_members = [\"a\", \"b\"]\n",
    "my_otp(\"Mark\", nctdream_members)\n",
    "my_otp(\"Haechan\", nctdream_members)\n",
    "my_otp(\"Jaemin\", nctdream_members)\n"
   ]
  },
  {
   "cell_type": "code",
   "execution_count": 4,
   "metadata": {},
   "outputs": [
    {
     "name": "stdout",
     "output_type": "stream",
     "text": [
      "\"d\"]\n",
      "\"a\" ❤️ \"d\"]\n"
     ]
    }
   ],
   "source": [
    "import random\n",
    "random.seed(42)\n",
    "\n",
    "def my_otp(dname, member_list):\n",
    "    random_member = random.sample(member_list, 1)[0]\n",
    "    print(random_member)\n",
    "    print(dname + \" ❤️ \" + random_member)\n",
    "\n",
    "idol_name = input(\"Enter your idol name: \")\n",
    "member_list = input(\"Enter your idol member list: \")\n",
    "member_list = member_list.split(\", \")\n",
    "_ = my_otp(idol_name, member_list)\n"
   ]
  },
  {
   "cell_type": "markdown",
   "metadata": {},
   "source": [
    "### 1.13 Defining Class\n",
    "\n",
    "## Fraction Class \n",
    "\n",
    "Using Fraction class to show the details of implementing a user-defined class \n",
    "Firstly, will need constructor - defines the way in which data objects are created\n",
    "you went to a bar and saw _____\n",
    "what will you do\n",
    "____ comes along and abla\n",
    "\n",
    "\n"
   ]
  },
  {
   "cell_type": "code",
   "execution_count": 9,
   "metadata": {},
   "outputs": [],
   "source": [
    "class NCT:\n",
    "    def __init__(self, members):\n",
    "        self.members = members\n",
    "\n",
    "    def generate_random_member(self):\n",
    "        return random.sample(self.members, 1)[0]\n",
    "\n",
    "    def first_action(self):\n",
    "        random_member = self.generate_random_member()\n",
    "        return f\"I went to the bar and saw {random_member}!\"\n",
    "\n",
    "\n",
    "    def second_action(self):\n",
    "        random_member = self.generate_random_member()\n",
    "        return f\"{random_member} and I went to the beach!\"\n",
    "\n",
    "    def third_action(self):\n",
    "        random_member = self.generate_random_member()\n",
    "        return f\"{random_member} and I k-i-s-s-e-d!\"\n",
    "\n",
    "    def run_actions(self):\n",
    "        print(self.first_action())\n",
    "        print(self.second_action())\n",
    "        print(self.third_action())"
   ]
  },
  {
   "cell_type": "code",
   "execution_count": 10,
   "metadata": {},
   "outputs": [
    {
     "name": "stdout",
     "output_type": "stream",
     "text": [
      "I went to the bar and saw Jaehyun!\n",
      "Doyoung and I went to the beach!\n",
      "Doyoung and I k-i-s-s-e-d!\n"
     ]
    }
   ],
   "source": [
    "nct_actions = NCT(members=['Taeyong', 'Johnny', 'Yuta', 'Doyoung', 'Jaehyun', 'Winwin', 'Taeil', 'Mark', 'Haechan', 'Jeno', 'Jaemin', 'Renjun', 'Jisung'])\n",
    "nct_actions.run_actions()"
   ]
  },
  {
   "cell_type": "markdown",
   "metadata": {},
   "source": [
    "\n"
   ]
  }
 ],
 "metadata": {
  "kernelspec": {
   "display_name": "Python 3.8.15 ('gaohn')",
   "language": "python",
   "name": "python3"
  },
  "language_info": {
   "codemirror_mode": {
    "name": "ipython",
    "version": 3
   },
   "file_extension": ".py",
   "mimetype": "text/x-python",
   "name": "python",
   "nbconvert_exporter": "python",
   "pygments_lexer": "ipython3",
   "version": "3.8.15"
  },
  "orig_nbformat": 4,
  "vscode": {
   "interpreter": {
    "hash": "dcd450edf2a38ed593ba5af012e093d4d4ca63d14078fa56cd9563b2046eb57e"
   }
  }
 },
 "nbformat": 4,
 "nbformat_minor": 2
}
